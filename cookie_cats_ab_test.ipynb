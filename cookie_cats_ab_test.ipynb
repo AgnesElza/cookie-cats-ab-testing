{
  "nbformat": 4,
  "nbformat_minor": 0,
  "metadata": {
    "colab": {
      "provenance": [],
      "authorship_tag": "ABX9TyNS+TP3L+IgtJA7QoL/1y4m",
      "include_colab_link": true
    },
    "kernelspec": {
      "name": "python3",
      "display_name": "Python 3"
    },
    "language_info": {
      "name": "python"
    }
  },
  "cells": [
    {
      "cell_type": "markdown",
      "metadata": {
        "id": "view-in-github",
        "colab_type": "text"
      },
      "source": [
        "<a href=\"https://colab.research.google.com/github/AgnesElza/cookie-cats-ab-testing/blob/main/cookie_cats_ab_test.ipynb\" target=\"_parent\"><img src=\"https://colab.research.google.com/assets/colab-badge.svg\" alt=\"Open In Colab\"/></a>"
      ]
    },
    {
      "cell_type": "markdown",
      "source": [
        "## Dataset Description — Cookie Cats A/B Test\n",
        "\n",
        "The dataset comes from an A/B test run in **Cookie Cats**, a popular mobile puzzle game. The game introduces \"gates\" at certain levels, which slow player progression.  \n",
        "We evaluated whether moving the game’s first gate from level 30 to level 40 increased player retention without harming long-term engagement.  \n",
        "\n",
        "### Features\n",
        "\n",
        "- **`userid`** *(int)*  \n",
        "  Unique identifier for each player. Used for random assignment into control and treatment groups.  \n",
        "\n",
        "- **`version`** *(string)*  \n",
        "  Experimental group assignment:  \n",
        "  - `gate_30` → Control group (gate placed at level 30).  \n",
        "  - `gate_40` → Treatment group (gate placed at level 40).  \n",
        "\n",
        "- **`sum_gamerounds`** *(int)*  \n",
        "  Total number of game rounds played by the user during the 14-day observation period.  \n",
        "  Serves as a proxy for **player engagement** and can be used as a covariate for variance reduction (CUPED).  \n",
        "\n",
        "- **`retention_1`** *(bool)*  \n",
        "  Indicates whether the player returned to the game **1 day** after installing.  \n",
        "  - `True` → player came back on Day 1.  \n",
        "  - `False` → player did not return.  \n",
        "  This is the **short-term retention metric**.  \n",
        "\n",
        "- **`retention_7`** *(bool)*  \n",
        "  Indicates whether the player returned to the game **7 days** after installing.  \n",
        "  - `True` → player came back on Day 7.  \n",
        "  - `False` → player did not return.  \n",
        "  This is the **long-term retention metric**.  \n",
        "\n",
        "### Experiment Goal\n",
        "The main business question is:  \n",
        "> *Does moving the first gate from level 30 to level 40 increase short-term or long-term player retention?*"
      ],
      "metadata": {
        "id": "FPwaPEyT19EW"
      }
    },
    {
      "cell_type": "markdown",
      "source": [
        "## Load data"
      ],
      "metadata": {
        "id": "vNNYPgXOyEmh"
      }
    },
    {
      "cell_type": "code",
      "execution_count": null,
      "metadata": {
        "colab": {
          "base_uri": "https://localhost:8080/"
        },
        "id": "EZxFCu-4uKa8",
        "outputId": "e95d2b77-abfb-4f95-8d7f-2a2d90c625e5"
      },
      "outputs": [
        {
          "output_type": "stream",
          "name": "stdout",
          "text": [
            "Drive already mounted at /content/drive; to attempt to forcibly remount, call drive.mount(\"/content/drive\", force_remount=True).\n"
          ]
        }
      ],
      "source": [
        "# Mounting Google Drive in Colab\n",
        "from google.colab import drive\n",
        "drive.mount('/content/drive')"
      ]
    },
    {
      "cell_type": "code",
      "source": [
        "# lifelines is a Python library for survival analysis\n",
        "!pip install lifelines --quiet"
      ],
      "metadata": {
        "id": "kwyG5d3Pa0hs"
      },
      "execution_count": null,
      "outputs": []
    },
    {
      "cell_type": "code",
      "source": [
        "import pandas as pd\n",
        "import numpy as np\n",
        "from scipy.stats import norm\n",
        "from scipy.stats import chi2_contingency\n",
        "import matplotlib.pyplot as plt\n",
        "from lifelines import KaplanMeierFitter\n",
        "import scipy.stats as stats\n",
        "from statsmodels.stats.power import NormalIndPower\n",
        "from statsmodels.stats.proportion import proportion_effectsize\n",
        "from scipy.optimize import brentq"
      ],
      "metadata": {
        "id": "GhHm8BsZwNY_"
      },
      "execution_count": null,
      "outputs": []
    },
    {
      "cell_type": "code",
      "source": [
        "# Path to your data\n",
        "data_path = \"/content/drive/MyDrive/data_science_projects/cookie_cats_project/data\"\n",
        "df = pd.read_csv(f\"{data_path}/cookie_cats.csv\")"
      ],
      "metadata": {
        "id": "Va2rwKVuwP2W"
      },
      "execution_count": null,
      "outputs": []
    },
    {
      "cell_type": "code",
      "source": [
        "df.info()"
      ],
      "metadata": {
        "colab": {
          "base_uri": "https://localhost:8080/"
        },
        "id": "twWBGWf-wpnG",
        "outputId": "c2cca1c3-16fd-482a-f535-c0d2f3947ccd"
      },
      "execution_count": null,
      "outputs": [
        {
          "output_type": "stream",
          "name": "stdout",
          "text": [
            "<class 'pandas.core.frame.DataFrame'>\n",
            "RangeIndex: 90189 entries, 0 to 90188\n",
            "Data columns (total 5 columns):\n",
            " #   Column          Non-Null Count  Dtype \n",
            "---  ------          --------------  ----- \n",
            " 0   userid          90189 non-null  int64 \n",
            " 1   version         90189 non-null  object\n",
            " 2   sum_gamerounds  90189 non-null  int64 \n",
            " 3   retention_1     90189 non-null  bool  \n",
            " 4   retention_7     90189 non-null  bool  \n",
            "dtypes: bool(2), int64(2), object(1)\n",
            "memory usage: 2.2+ MB\n"
          ]
        }
      ]
    },
    {
      "cell_type": "markdown",
      "source": [
        "## SRM (Sample Ratio Mismatch) check"
      ],
      "metadata": {
        "id": "z8JGpBl4yIUh"
      }
    },
    {
      "cell_type": "code",
      "source": [
        "df[\"version\"].value_counts(normalize=True)"
      ],
      "metadata": {
        "colab": {
          "base_uri": "https://localhost:8080/",
          "height": 178
        },
        "id": "3NCGfKhUxaom",
        "outputId": "100c5d4d-25ab-4c16-b4d8-8654b4a459de"
      },
      "execution_count": null,
      "outputs": [
        {
          "output_type": "execute_result",
          "data": {
            "text/plain": [
              "version\n",
              "gate_40    0.504374\n",
              "gate_30    0.495626\n",
              "Name: proportion, dtype: float64"
            ],
            "text/html": [
              "<div>\n",
              "<style scoped>\n",
              "    .dataframe tbody tr th:only-of-type {\n",
              "        vertical-align: middle;\n",
              "    }\n",
              "\n",
              "    .dataframe tbody tr th {\n",
              "        vertical-align: top;\n",
              "    }\n",
              "\n",
              "    .dataframe thead th {\n",
              "        text-align: right;\n",
              "    }\n",
              "</style>\n",
              "<table border=\"1\" class=\"dataframe\">\n",
              "  <thead>\n",
              "    <tr style=\"text-align: right;\">\n",
              "      <th></th>\n",
              "      <th>proportion</th>\n",
              "    </tr>\n",
              "    <tr>\n",
              "      <th>version</th>\n",
              "      <th></th>\n",
              "    </tr>\n",
              "  </thead>\n",
              "  <tbody>\n",
              "    <tr>\n",
              "      <th>gate_40</th>\n",
              "      <td>0.504374</td>\n",
              "    </tr>\n",
              "    <tr>\n",
              "      <th>gate_30</th>\n",
              "      <td>0.495626</td>\n",
              "    </tr>\n",
              "  </tbody>\n",
              "</table>\n",
              "</div><br><label><b>dtype:</b> float64</label>"
            ]
          },
          "metadata": {},
          "execution_count": 43
        }
      ]
    },
    {
      "cell_type": "markdown",
      "source": [
        "The split is essentially 50/50, which is what we expect from a properly randomized A/B test. Randomization looks good, no evidence of sample ratio msmatch. Let's move forward to outcome analysis."
      ],
      "metadata": {
        "id": "o3WW7rXz3I4u"
      }
    },
    {
      "cell_type": "code",
      "source": [
        "# Count users in each group\n",
        "counts = df[\"version\"].value_counts()\n",
        "n_t = counts[\"gate_40\"]\n",
        "n_c = counts[\"gate_30\"]\n",
        "total = n_t + n_c\n",
        "\n",
        "# Expected counts (50/50 split)\n",
        "expected = [0.5 * total, 0.5 * total]\n",
        "\n",
        "# Chi-square test\n",
        "chi2, p, _, _ = chi2_contingency([[n_t, n_c], expected])\n",
        "\n",
        "print(\"=== SRM Test ===\")\n",
        "print(f\"Observed: gate_40 = {n_t:,} ({n_t/total:.2%}), gate_30 = {n_c:,} ({n_c/total:.2%})\")\n",
        "print(f\"Expected: 50/50 split\")\n",
        "print(f\"Chi-square = {chi2:.3f}, p-value = {p:.3f}\")\n",
        "\n",
        "if p < 0.01:\n",
        "    print(\"⚠️ Possible sample ratio mismatch (p < 0.01)\")\n",
        "else:\n",
        "    print(\"No SRM detected (groups are balanced as expected)\")\n"
      ],
      "metadata": {
        "colab": {
          "base_uri": "https://localhost:8080/"
        },
        "id": "hLchbY2Gx4eU",
        "outputId": "86b40cb8-3376-43eb-8764-31ff9d32744d"
      },
      "execution_count": null,
      "outputs": [
        {
          "output_type": "stream",
          "name": "stdout",
          "text": [
            "=== SRM Test ===\n",
            "Observed: gate_40 = 45,489 (50.44%), gate_30 = 44,700 (49.56%)\n",
            "Expected: 50/50 split\n",
            "Chi-square = 3.434, p-value = 0.064\n",
            "No SRM detected (groups are balanced as expected)\n"
          ]
        }
      ]
    },
    {
      "cell_type": "markdown",
      "source": [
        "The control and treatment groups were split ~50/50 with no evidence of sample ratio mismatch, confirming the experiment was properly randomized"
      ],
      "metadata": {
        "id": "A1XA6GcZmECk"
      }
    },
    {
      "cell_type": "markdown",
      "source": [
        "## A/B Test Results: Day-1 and Day-7 Retention"
      ],
      "metadata": {
        "id": "bBtf862EzRpG"
      }
    },
    {
      "cell_type": "markdown",
      "source": [
        "The analysis here uses a two-proportion z-test, the standard frequentist method for comparing binary outcomes (retention rates) between treatment and control groups"
      ],
      "metadata": {
        "id": "r4HJNo5ZWbOz"
      }
    },
    {
      "cell_type": "code",
      "source": [
        "# two-proportion z-test\n",
        "def ab_test_outcome(df, group_col, outcome_col, t_label, c_label, metric_name):\n",
        "    y_t = df.loc[df[group_col]==t_label, outcome_col]\n",
        "    y_c = df.loc[df[group_col]==c_label, outcome_col]\n",
        "\n",
        "    p_t, p_c = y_t.mean(), y_c.mean()\n",
        "    diff = p_t - p_c\n",
        "    z = norm.ppf(0.975)\n",
        "    # standard error (SE) of the difference in proportions\n",
        "    se = np.sqrt(p_t*(1-p_t)/len(y_t) + p_c*(1-p_c)/len(y_c))\n",
        "    ci = (diff - z*se, diff + z*se)\n",
        "\n",
        "    print(f\"\\n=== {metric_name} ===\")\n",
        "    print(f\"T = {p_t:.2%} [n={len(y_t):,}], C = {p_c:.2%} [n={len(y_c):,}]\")\n",
        "    print(f\"Lift = {diff:.2%}, 95% CI = ({ci[0]:.2%}, {ci[1]:.2%})\")\n",
        "    if ci[0] > 0:\n",
        "        print(\"Decision: 🚀 Ship\")\n",
        "    elif ci[1] < 0:\n",
        "        print(\"Decision: ❌ Do not ship\")\n",
        "    else:\n",
        "        print(\"Decision: 🤔 Inconclusive\")"
      ],
      "metadata": {
        "id": "i4VtlsZc6n6s"
      },
      "execution_count": null,
      "outputs": []
    },
    {
      "cell_type": "code",
      "source": [
        "ab_test_outcome(df, \"version\", \"retention_1\", \"gate_40\", \"gate_30\", \"Day 1 retention\")\n",
        "ab_test_outcome(df, \"version\", \"retention_7\", \"gate_40\", \"gate_30\", \"Day 7 retention\")"
      ],
      "metadata": {
        "colab": {
          "base_uri": "https://localhost:8080/"
        },
        "id": "PTtoHdQS6yDH",
        "outputId": "e4acc737-fd03-47ea-c377-ce77a5fc5aa8"
      },
      "execution_count": null,
      "outputs": [
        {
          "output_type": "stream",
          "name": "stdout",
          "text": [
            "\n",
            "=== Day 1 retention ===\n",
            "T = 44.23% [n=45,489], C = 44.82% [n=44,700]\n",
            "Lift = -0.59%, 95% CI = (-1.24%, 0.06%)\n",
            "Decision: 🤔 Inconclusive\n",
            "\n",
            "=== Day 7 retention ===\n",
            "T = 18.20% [n=45,489], C = 19.02% [n=44,700]\n",
            "Lift = -0.82%, 95% CI = (-1.33%, -0.31%)\n",
            "Decision: ❌ Do not ship\n"
          ]
        }
      ]
    },
    {
      "cell_type": "markdown",
      "source": [
        "The gate change did not clearly affect Day-1 retention, but it significantly reduced Day-7 retention — indicating that the new design hurts long-term player retention."
      ],
      "metadata": {
        "id": "y7wgoh-umG04"
      }
    },
    {
      "cell_type": "markdown",
      "source": [
        "## Why We Cannot Apply CUPED Here\n",
        "\n",
        "CUPED (Controlled-experiment Using Pre-Experiment Data) is a variance reduction technique.  \n",
        "It works by adjusting the outcome using **pre-treatment covariates** that are:\n",
        "\n",
        "1. **Measured before the experiment starts**  \n",
        "2. **Correlated with the outcome**  \n",
        "\n",
        "### Why it doesn’t work here\n",
        "In the Cookie Cats dataset we have:\n",
        "- `userid` → identifier  \n",
        "- `version` → treatment assignment (gate_30 vs gate_40)  \n",
        "- `sum_gamerounds` → total rounds played during the 14-day test window  \n",
        "- `retention_1`, `retention_7` → post-treatment retention outcomes  \n",
        "\n",
        "The only continuous variable available, **`sum_gamerounds`**, is measured **after randomization**.  \n",
        "This means it may already be influenced by the treatment (moving the gate later).  \n",
        "\n",
        "⚠️ If we used `sum_gamerounds` in CUPED, we would risk **blocking part of the treatment effect**  \n",
        "→ the adjustment would introduce bias instead of just reducing variance."
      ],
      "metadata": {
        "id": "BIFZOrL-NrY5"
      }
    },
    {
      "cell_type": "markdown",
      "source": [
        "## Guardrail Analysis (play rounds, engagement)"
      ],
      "metadata": {
        "id": "Zu3V2JUkOGTc"
      }
    },
    {
      "cell_type": "markdown",
      "source": [
        "### What are guardrails?\n",
        "\n",
        "Guardrail metrics are things you don’t want to harm while running an experiment.\n",
        "\n",
        "Example in Cookie Cats:\n",
        "\n",
        "- Primary metric = retention (retention_1, retention_7).\n",
        "\n",
        "- Guardrail metric = engagement (sum_gamerounds).\n",
        "\n",
        "Even if retention improves, we don’t want the change to reduce play rounds (which could hurt revenue or player experience)."
      ],
      "metadata": {
        "id": "7zGCGsStOToh"
      }
    },
    {
      "cell_type": "code",
      "source": [
        "def ab_test_guardrail(df, group_col, metric_col, t_label, c_label, metric_name):\n",
        "    y_t = df.loc[df[group_col]==t_label, metric_col]\n",
        "    y_c = df.loc[df[group_col]==c_label, metric_col]\n",
        "\n",
        "    mean_t, mean_c = y_t.mean(), y_c.mean()\n",
        "    diff = mean_t - mean_c\n",
        "\n",
        "    # Standard error for difference in means (Welch’s approx)\n",
        "    se = np.sqrt(y_t.var(ddof=1)/len(y_t) + y_c.var(ddof=1)/len(y_c))\n",
        "    z = norm.ppf(0.975)\n",
        "    ci = (diff - z*se, diff + z*se)\n",
        "\n",
        "    print(f\"\\n=== Guardrail: {metric_name} ===\")\n",
        "    print(f\"T = {mean_t:.2f} rounds [n={len(y_t):,}], \"\n",
        "          f\"C = {mean_c:.2f} rounds [n={len(y_c):,}]\")\n",
        "    print(f\"Diff = {diff:.2f} rounds, 95% CI = ({ci[0]:.2f}, {ci[1]:.2f})\")\n",
        "    if ci[0] > 0:\n",
        "        print(\"✅ Treatment increased engagement\")\n",
        "    elif ci[1] < 0:\n",
        "        print(\"⚠️ Treatment decreased engagement\")\n",
        "    else:\n",
        "        print(\"🤔 No significant difference in engagement\")\n",
        "\n",
        "# Run guardrail analysis on play rounds\n",
        "ab_test_guardrail(df, \"version\", \"sum_gamerounds\", \"gate_40\", \"gate_30\", \"Total game rounds played\")\n"
      ],
      "metadata": {
        "colab": {
          "base_uri": "https://localhost:8080/"
        },
        "id": "wMnWTMhdNsAA",
        "outputId": "8d3f511d-c2de-4389-dec3-849373a6d858"
      },
      "execution_count": null,
      "outputs": [
        {
          "output_type": "stream",
          "name": "stdout",
          "text": [
            "\n",
            "=== Guardrail: Total game rounds played ===\n",
            "T = 51.30 rounds [n=45,489], C = 52.46 rounds [n=44,700]\n",
            "Diff = -1.16 rounds, 95% CI = (-3.72, 1.40)\n",
            "🤔 No significant difference in engagement\n"
          ]
        }
      ]
    },
    {
      "cell_type": "markdown",
      "source": [
        "The new gate design did not significantly impact engagement — players in both groups played roughly the same number of rounds. Since retention was affected but engagement stayed stable, the retention effect is not explained by players playing more or fewer rounds overall."
      ],
      "metadata": {
        "id": "XreZNfxLlZ6j"
      }
    },
    {
      "cell_type": "markdown",
      "source": [
        "## Subgroup (Heterogeneous Treatment Effect) Analysis"
      ],
      "metadata": {
        "id": "Ic_2rSaZVPVZ"
      }
    },
    {
      "cell_type": "markdown",
      "source": [
        "Even if the overall effect looks positive, different types of users may respond differently:\n",
        "\n",
        "- Casual players (few rounds)\n",
        "\n",
        "- Heavy players (lots of rounds)\n",
        "\n",
        "👉 This helps answer:\n",
        "“Does moving the gate help all players, or mainly one type?”"
      ],
      "metadata": {
        "id": "eiFjMZBxVanr"
      }
    },
    {
      "cell_type": "markdown",
      "source": [
        "We’ll use sum_gamerounds to split players into Casual vs Heavy.\n",
        "For simplicity, let’s use the median split (you could also use quartiles)."
      ],
      "metadata": {
        "id": "XNjLc0UMVlnu"
      }
    },
    {
      "cell_type": "code",
      "source": [
        "# Define median split\n",
        "median_rounds = df[\"sum_gamerounds\"].median()\n",
        "\n",
        "df[\"player_type\"] = np.where(df[\"sum_gamerounds\"] <= median_rounds,\n",
        "                             \"Casual\", \"Heavy\")\n",
        "\n",
        "df[\"player_type\"].value_counts()"
      ],
      "metadata": {
        "colab": {
          "base_uri": "https://localhost:8080/",
          "height": 178
        },
        "id": "yJYI9E-IOeZr",
        "outputId": "53fcbe13-3d27-43a0-fb09-2903fe24b978"
      },
      "execution_count": null,
      "outputs": [
        {
          "output_type": "execute_result",
          "data": {
            "text/plain": [
              "player_type\n",
              "Casual    45114\n",
              "Heavy     45075\n",
              "Name: count, dtype: int64"
            ],
            "text/html": [
              "<div>\n",
              "<style scoped>\n",
              "    .dataframe tbody tr th:only-of-type {\n",
              "        vertical-align: middle;\n",
              "    }\n",
              "\n",
              "    .dataframe tbody tr th {\n",
              "        vertical-align: top;\n",
              "    }\n",
              "\n",
              "    .dataframe thead th {\n",
              "        text-align: right;\n",
              "    }\n",
              "</style>\n",
              "<table border=\"1\" class=\"dataframe\">\n",
              "  <thead>\n",
              "    <tr style=\"text-align: right;\">\n",
              "      <th></th>\n",
              "      <th>count</th>\n",
              "    </tr>\n",
              "    <tr>\n",
              "      <th>player_type</th>\n",
              "      <th></th>\n",
              "    </tr>\n",
              "  </thead>\n",
              "  <tbody>\n",
              "    <tr>\n",
              "      <th>Casual</th>\n",
              "      <td>45114</td>\n",
              "    </tr>\n",
              "    <tr>\n",
              "      <th>Heavy</th>\n",
              "      <td>45075</td>\n",
              "    </tr>\n",
              "  </tbody>\n",
              "</table>\n",
              "</div><br><label><b>dtype:</b> int64</label>"
            ]
          },
          "metadata": {},
          "execution_count": 48
        }
      ]
    },
    {
      "cell_type": "code",
      "source": [
        "# Run subgroup analysis\n",
        "for subgroup in [\"Casual\", \"Heavy\"]:\n",
        "    print(f\"\\n*** Subgroup: {subgroup} players ***\")\n",
        "    sub_df = df[df[\"player_type\"]==subgroup]\n",
        "    ab_test_outcome(sub_df, \"version\", \"retention_1\", \"gate_40\", \"gate_30\", \"Day 1 retention\")\n",
        "    ab_test_outcome(sub_df, \"version\", \"retention_7\", \"gate_40\", \"gate_30\", \"Day 7 retention\")"
      ],
      "metadata": {
        "colab": {
          "base_uri": "https://localhost:8080/"
        },
        "id": "unqklZ_pWrZf",
        "outputId": "389b1360-ca9a-4570-c4fc-3239e2d5e1ab"
      },
      "execution_count": null,
      "outputs": [
        {
          "output_type": "stream",
          "name": "stdout",
          "text": [
            "\n",
            "*** Subgroup: Casual players ***\n",
            "\n",
            "=== Day 1 retention ===\n",
            "T = 16.15% [n=22,945], C = 16.14% [n=22,169]\n",
            "Lift = 0.02%, 95% CI = (-0.66%, 0.70%)\n",
            "Decision: 🤔 Inconclusive\n",
            "\n",
            "=== Day 7 retention ===\n",
            "T = 2.56% [n=22,945], C = 2.57% [n=22,169]\n",
            "Lift = -0.01%, 95% CI = (-0.30%, 0.28%)\n",
            "Decision: 🤔 Inconclusive\n",
            "\n",
            "*** Subgroup: Heavy players ***\n",
            "\n",
            "=== Day 1 retention ===\n",
            "T = 72.80% [n=22,544], C = 73.04% [n=22,531]\n",
            "Lift = -0.24%, 95% CI = (-1.06%, 0.58%)\n",
            "Decision: 🤔 Inconclusive\n",
            "\n",
            "=== Day 7 retention ===\n",
            "T = 34.12% [n=22,544], C = 35.21% [n=22,531]\n",
            "Lift = -1.09%, 95% CI = (-1.97%, -0.21%)\n",
            "Decision: ❌ Do not ship\n"
          ]
        }
      ]
    },
    {
      "cell_type": "markdown",
      "source": [
        "👉 For heavy players, moving the gate later clearly hurts long-term retention.\n",
        "\n",
        "- Casual players: No measurable impact (retention unaffected).\n",
        "\n",
        "- Heavy players: Significantly lower Day-7 retention in treatment → the new design makes loyal players less likely to stick around.\n",
        "\n",
        "The negative effect of moving the gate from level 30 to 40 is driven entirely by heavy players, the game’s most valuable audience. Casual players are unaffected, but the loss of long-term engagement among heavy players is a strong reason not to ship the new gate design."
      ],
      "metadata": {
        "id": "-AOu1WDxneb3"
      }
    },
    {
      "cell_type": "markdown",
      "source": [
        "Let's visualise lift by subgroup"
      ],
      "metadata": {
        "id": "P-M_0HroYcyX"
      }
    },
    {
      "cell_type": "code",
      "source": [
        "def compute_lift_ci(df, group_col, outcome_col, t_label, c_label):\n",
        "    y_t = df.loc[df[group_col]==t_label, outcome_col]\n",
        "    y_c = df.loc[df[group_col]==c_label, outcome_col]\n",
        "\n",
        "    p_t, p_c = y_t.mean(), y_c.mean()\n",
        "    diff = p_t - p_c\n",
        "\n",
        "    # Standard error of difference in proportions\n",
        "    se = np.sqrt(p_t*(1-p_t)/len(y_t) + p_c*(1-p_c)/len(y_c))\n",
        "    z = norm.ppf(0.975)  # 95% CI\n",
        "    ci = (diff - z*se, diff + z*se)\n",
        "\n",
        "    return diff, ci"
      ],
      "metadata": {
        "id": "Afk575HeXibo"
      },
      "execution_count": null,
      "outputs": []
    },
    {
      "cell_type": "code",
      "source": [
        "subgroups = [\"Casual\", \"Heavy\"]\n",
        "outcomes = {\"Day 1 retention\": \"retention_1\",\n",
        "            \"Day 7 retention\": \"retention_7\"}\n",
        "\n",
        "results = []\n",
        "\n",
        "for subgroup in subgroups:\n",
        "    sub_df = df[df[\"player_type\"]==subgroup]\n",
        "    for outcome_name, outcome_col in outcomes.items():\n",
        "        diff, ci = compute_lift_ci(sub_df, \"version\", outcome_col, \"gate_40\", \"gate_30\")\n",
        "        results.append({\n",
        "            \"subgroup\": subgroup,\n",
        "            \"outcome\": outcome_name,\n",
        "            \"lift\": diff * 100,  # convert to %\n",
        "            \"ci_low\": ci[0] * 100,\n",
        "            \"ci_high\": ci[1] * 100\n",
        "        })\n",
        "\n",
        "results_df = pd.DataFrame(results)"
      ],
      "metadata": {
        "id": "EOHVXDSLYh3M"
      },
      "execution_count": null,
      "outputs": []
    },
    {
      "cell_type": "code",
      "source": [
        "plt.figure(figsize=(8,5))\n",
        "\n",
        "for i, row in results_df.iterrows():\n",
        "    plt.errorbar(\n",
        "        x=i,\n",
        "        y=row[\"lift\"],\n",
        "        yerr=[[row[\"lift\"]-row[\"ci_low\"]], [row[\"ci_high\"]-row[\"lift\"]]],\n",
        "        fmt='o', capsize=5, color=\"teal\"\n",
        "    )\n",
        "    plt.text(i, row[\"lift\"]+0.1, f\"{row['lift']:.2f}%\", ha=\"center\")\n",
        "\n",
        "plt.axhline(0, color=\"black\", linewidth=0.8)\n",
        "plt.xticks(range(len(results_df)), results_df[\"subgroup\"] + \" - \" + results_df[\"outcome\"], rotation=45)\n",
        "plt.ylabel(\"Lift in Retention Rate (pp)\")\n",
        "plt.title(\"Subgroup Retention Lift with 95% CI\")\n",
        "plt.tight_layout()\n",
        "plt.show()"
      ],
      "metadata": {
        "colab": {
          "base_uri": "https://localhost:8080/",
          "height": 507
        },
        "id": "y02L7llyZN3n",
        "outputId": "1265ffcd-5e17-459c-d09c-a43c9c4d48f9"
      },
      "execution_count": null,
      "outputs": [
        {
          "output_type": "display_data",
          "data": {
            "text/plain": [
              "<Figure size 800x500 with 1 Axes>"
            ],
            "image/png": "[encoded data removed]"
          },
          "metadata": {}
        }
      ]
    },
    {
      "cell_type": "markdown",
      "source": [
        "The treatment (gate at level 40) had no measurable impact on casual players, but it hurt long-term retention for heavy players, the game’s most engaged and valuable audience.\n",
        "\n",
        "This explains why the overall result showed lower Day-7 retention: the effect is concentrated among heavy players."
      ],
      "metadata": {
        "id": "5ta_hRTnooWl"
      }
    },
    {
      "cell_type": "markdown",
      "source": [
        "## Survival Analysis"
      ],
      "metadata": {
        "id": "f3glwtfEaE5Z"
      }
    },
    {
      "cell_type": "markdown",
      "source": [
        "Instead of only looking at Day 1 and Day 7 snapshots, survival analysis lets us ask:\n",
        "\n",
        "👉 “How long do players keep playing before they churn?”\n",
        "\n",
        "Since Cookie Cats only gives us retention_1 and retention_7, we’ll simulate survival:\n",
        "\n",
        "Treat Day 1 and Day 7 as “milestones”.\n",
        "\n",
        "Build Kaplan–Meier curves."
      ],
      "metadata": {
        "id": "Y-arXVDLaegb"
      }
    },
    {
      "cell_type": "code",
      "source": [
        "from lifelines import KaplanMeierFitter\n",
        "import matplotlib.pyplot as plt\n",
        "\n",
        "# build simplified survival dataset\n",
        "df[\"time\"] = np.where(df[\"retention_7\"]==1, 7,\n",
        "               np.where(df[\"retention_1\"]==1, 1, 0))\n",
        "df[\"event\"] = 1  # everyone eventually churns\n",
        "\n",
        "# fit Kaplan–Meier curves\n",
        "kmf = KaplanMeierFitter()\n",
        "\n",
        "plt.figure(figsize=(8,5))\n",
        "for group in df['version'].unique():\n",
        "    mask = df['version'] == group\n",
        "    kmf.fit(df.loc[mask, \"time\"], event_observed=df.loc[mask, \"event\"], label=group)\n",
        "    kmf.plot_survival_function(ci_show=False)\n",
        "\n",
        "plt.title(\"Survival Curves: Cookie Cats Retention\")\n",
        "plt.xlabel(\"Days since install\")\n",
        "plt.ylabel(\"Probability of staying active\")\n",
        "plt.show()"
      ],
      "metadata": {
        "colab": {
          "base_uri": "https://localhost:8080/",
          "height": 487
        },
        "id": "nIUyDI2JaP02",
        "outputId": "1e150d1c-48f7-4208-a111-db6955b90c89"
      },
      "execution_count": null,
      "outputs": [
        {
          "output_type": "display_data",
          "data": {
            "text/plain": [
              "<Figure size 800x500 with 1 Axes>"
            ],
            "image/png": "[encoded data removed]"
          },
          "metadata": {}
        }
      ]
    },
    {
      "cell_type": "markdown",
      "source": [
        "Moving the gate later (to level 40) did not help players stick around longer.\n",
        "\n",
        "If anything, it slightly worsened retention — players in the treatment group leave the game earlier than those in control.\n",
        "\n",
        "This dynamic survival view reinforces the Day-7 retention results: the gate_30 design is better for long-term retention.\n"
      ],
      "metadata": {
        "id": "tP5J7UKpeLUz"
      }
    },
    {
      "cell_type": "markdown",
      "source": [
        "## Power Analysis / Minimum Detectable Effect (MDE)"
      ],
      "metadata": {
        "id": "A4LNum4QaLf-"
      }
    },
    {
      "cell_type": "markdown",
      "source": [
        "Power analysis answers:\n",
        "\n",
        "👉 “Given my sample size, what’s the smallest effect I can detect?”"
      ],
      "metadata": {
        "id": "o0aGCqVubgzM"
      }
    },
    {
      "cell_type": "code",
      "source": [
        "analysis = NormalIndPower()\n",
        "\n",
        "# Inputs\n",
        "alpha = 0.05   # significance level\n",
        "power = 0.8    # desired power\n",
        "n_t, n_c = df[\"version\"].value_counts()\n",
        "p_baseline = df.loc[df[\"version\"]==\"gate_30\", \"retention_7\"].mean()\n",
        "\n",
        "# MDE (minimum detectable effect, absolute difference)\n",
        "mde = analysis.solve_power(\n",
        "    effect_size=None,\n",
        "    nobs1=n_t,\n",
        "    alpha=alpha,\n",
        "    power=power,\n",
        "    ratio=n_c/n_t,\n",
        "    alternative=\"two-sided\"\n",
        ")\n",
        "\n",
        "print(f\"Baseline Day 7 retention: {p_baseline:.2%}\")\n",
        "print(f\"Minimum Detectable Effect (MDE) at 80% power: {mde:.2%}\")"
      ],
      "metadata": {
        "colab": {
          "base_uri": "https://localhost:8080/"
        },
        "id": "67ba4-SOZRNY",
        "outputId": "e54c0077-9e0d-483f-bc8c-19c6707da881"
      },
      "execution_count": null,
      "outputs": [
        {
          "output_type": "stream",
          "name": "stdout",
          "text": [
            "Baseline Day 7 retention: 19.02%\n",
            "Minimum Detectable Effect (MDE) at 80% power: 1.87%\n"
          ]
        }
      ]
    },
    {
      "cell_type": "markdown",
      "source": [
        "With ~90k players split across groups, you have 80% power to detect a difference of ~1.87 percentage points in Day-7 retention.\n",
        "\n",
        "The observed difference in the test was ~0.8pp.\n",
        "\n",
        "Since 0.8pp < 1.87pp → the experiment was technically underpowered to reliably detect such a small effect."
      ],
      "metadata": {
        "id": "GUdptVdqtdXN"
      }
    },
    {
      "cell_type": "markdown",
      "source": [
        "👉 “How many players would we need to detect a 0.8pp effect at 80% power?”"
      ],
      "metadata": {
        "id": "rna90aeau3A3"
      }
    },
    {
      "cell_type": "code",
      "source": [
        "analysis = NormalIndPower()\n",
        "alpha, power = 0.05, 0.80\n",
        "p1 = df.loc[df[\"version\"]==\"gate_30\", \"retention_7\"].mean()  # baseline (control)\n",
        "ratio = 1.0\n",
        "\n",
        "# 1) solve for Cohen's h (this is what solve_power returns)\n",
        "h_mde = analysis.solve_power(effect_size=None, nobs1=len(df[df[\"version\"]==\"gate_40\"]),\n",
        "                             alpha=alpha, power=power, ratio=ratio, alternative=\"two-sided\")\n",
        "\n",
        "# 2) convert h -> p2, then MDE in percentage points\n",
        "def h_to_p2(p1, h):\n",
        "    f = lambda p2: 2*np.arcsin(np.sqrt(p2)) - 2*np.arcsin(np.sqrt(p1)) - h\n",
        "    return brentq(f, 1e-9, 1-1e-9)\n",
        "\n",
        "p2 = h_to_p2(p1, h_mde)\n",
        "mde_abs = p2 - p1\n",
        "\n",
        "print(f\"Baseline (p1): {p1:.2%}\")\n",
        "print(f\"MDE (Cohen's h): {h_mde:.4f}\")\n",
        "print(f\"MDE (absolute pp): {mde_abs*100:.2f} pp\")"
      ],
      "metadata": {
        "colab": {
          "base_uri": "https://localhost:8080/"
        },
        "id": "IbdtEcrNvZyM",
        "outputId": "4a6dded0-a998-4402-e84b-2dc1ab18d9f2"
      },
      "execution_count": null,
      "outputs": [
        {
          "output_type": "stream",
          "name": "stdout",
          "text": [
            "Baseline (p1): 19.02%\n",
            "MDE (Cohen's h): 0.0186\n",
            "MDE (absolute pp): 0.73 pp\n"
          ]
        }
      ]
    },
    {
      "cell_type": "code",
      "source": [
        "p1 = df.loc[df[\"version\"]==\"gate_30\", \"retention_7\"].mean()   # baseline\n",
        "p2 = df.loc[df[\"version\"]==\"gate_40\", \"retention_7\"].mean()   # treatment\n",
        "n1 = (df[\"version\"]==\"gate_30\").sum()\n",
        "n2 = (df[\"version\"]==\"gate_40\").sum()\n",
        "ratio = n2 / n1\n",
        "\n",
        "h = proportion_effectsize(p1, p2)\n",
        "power = NormalIndPower().power(effect_size=abs(h), nobs1=n1, alpha=0.05, ratio=ratio, alternative='two-sided')\n",
        "print(f\"Observed diff: {(p2-p1)*100:.2f} pp  |  Achieved power: {power:.3f}\")"
      ],
      "metadata": {
        "colab": {
          "base_uri": "https://localhost:8080/"
        },
        "id": "Y9GBwOt0zvRk",
        "outputId": "e71183dd-a3d6-4bec-e1b2-bc7e1a522ddf"
      },
      "execution_count": null,
      "outputs": [
        {
          "output_type": "stream",
          "name": "stdout",
          "text": [
            "Observed diff: -0.82 pp  |  Achieved power: 0.886\n"
          ]
        }
      ]
    },
    {
      "cell_type": "markdown",
      "source": [
        "The experiment detected that moving the gate to level 40 reduces Day-7 retention by ~0.8pp. With nearly 89% statistical power, we can be confident this negative effect is genuine. The new design should not be shipped"
      ],
      "metadata": {
        "id": "hKvzKXE8093n"
      }
    },
    {
      "cell_type": "markdown",
      "source": [
        "## Bayesian take: probability treatment is better"
      ],
      "metadata": {
        "id": "40qqkUlbwcLk"
      }
    },
    {
      "cell_type": "code",
      "source": [
        "# --- Bayesian continuation (drop-in cell) ---\n",
        "\n",
        "# 1) successes (k) and sample sizes (n) for Day-7 retention\n",
        "RET_COL = \"retention_7\"\n",
        "VAR_COL = \"version\"\n",
        "\n",
        "g = df.groupby(VAR_COL)[RET_COL]\n",
        "k = g.sum()      # successes per group (retained on day 7)\n",
        "n = g.count()    # total per group\n",
        "\n",
        "# 2) set control/treatment labels (edit here if your labels differ)\n",
        "ctrl, trt = \"gate_30\", \"gate_40\"\n",
        "\n",
        "# quick sanity print\n",
        "print(\"Day7 rates:\",\n",
        "      {ctrl: f\"{(k[ctrl]/n[ctrl]):.2%}\",\n",
        "       trt:  f\"{(k[trt]/n[trt]):.2%}\"})\n",
        "\n",
        "# 3) Beta-Binomial posteriors (weakly-informative prior Beta(1,1))\n",
        "a0 = b0 = 1\n",
        "post_ctrl = stats.beta(a0 + k[ctrl], b0 + n[ctrl] - k[ctrl])\n",
        "post_trt  = stats.beta(a0 + k[trt],  b0 + n[trt]  - k[trt])\n",
        "\n",
        "# 4) Monte Carlo: P(p_trt > p_ctrl), posterior diff & lift\n",
        "samps = 200_000\n",
        "rng1, rng2 = np.random.default_rng(42), np.random.default_rng(43)\n",
        "p_c_s = post_ctrl.rvs(samps, random_state=rng1)\n",
        "p_t_s = post_trt.rvs(samps,  random_state=rng2)\n",
        "\n",
        "prob_better   = np.mean(p_t_s > p_c_s)\n",
        "diff_samples  = p_t_s - p_c_s                          # absolute pp difference\n",
        "lift_samples  = diff_samples / np.clip(p_c_s, 1e-9, None)\n",
        "\n",
        "# 5) credible intervals\n",
        "diff_cri = np.percentile(diff_samples, [2.5, 50, 97.5])\n",
        "lift_cri = np.percentile(lift_samples, [2.5, 50, 97.5])\n",
        "\n",
        "print(f\"\\nBayesian results (Beta-Binomial, prior Beta(1,1))\")\n",
        "print(f\"P(treatment > control) = {prob_better:.3f}\")\n",
        "print(f\"Posterior abs diff (pp): median {diff_cri[1]*100:.2f} \"\n",
        "      f\"CrI [{diff_cri[0]*100:.2f}, {diff_cri[2]*100:.2f}]\")\n",
        "print(f\"Posterior lift (%):      median {lift_cri[1]*100:.2f} \"\n",
        "      f\"CrI [{lift_cri[0]*100:.2f}, {lift_cri[2]*100:.2f}]\")\n",
        "\n",
        "# 6) optional: tidy dict if you want to store/print later\n",
        "bayes_summary = {\n",
        "    \"p_treatment_gt_control\": float(prob_better),\n",
        "    \"abs_diff_median_pp\":     float(diff_cri[1]*100),\n",
        "    \"abs_diff_95CrI_pp\":      [float(diff_cri[0]*100), float(diff_cri[2]*100)],\n",
        "    \"lift_median_pct\":        float(lift_cri[1]*100),\n",
        "    \"lift_95CrI_pct\":         [float(lift_cri[0]*100), float(lift_cri[2]*100)]\n",
        "}\n",
        "bayes_summary"
      ],
      "metadata": {
        "colab": {
          "base_uri": "https://localhost:8080/"
        },
        "id": "iwyrLkfX0YLT",
        "outputId": "8aa7a758-d15b-449d-9b99-930be960df86"
      },
      "execution_count": null,
      "outputs": [
        {
          "output_type": "stream",
          "name": "stdout",
          "text": [
            "Day7 rates: {'gate_30': '19.02%', 'gate_40': '18.20%'}\n",
            "\n",
            "Bayesian results (Beta-Binomial, prior Beta(1,1))\n",
            "P(treatment > control) = 0.001\n",
            "Posterior abs diff (pp): median -0.82 CrI [-1.33, -0.31]\n",
            "Posterior lift (%):      median -4.31 CrI [-6.90, -1.65]\n"
          ]
        },
        {
          "output_type": "execute_result",
          "data": {
            "text/plain": [
              "{'p_treatment_gt_control': 0.000835,\n",
              " 'abs_diff_median_pp': -0.819031534349103,\n",
              " 'abs_diff_95CrI_pp': [-1.3290897271147746, -0.3102176728530588],\n",
              " 'lift_median_pct': -4.305528612785688,\n",
              " 'lift_95CrI_pct': [-6.895272723014203, -1.653605799507773]}"
            ]
          },
          "metadata": {},
          "execution_count": 65
        }
      ]
    },
    {
      "cell_type": "markdown",
      "source": [
        "## Choosing the Right Statistical Test in A/B Testing"
      ],
      "metadata": {
        "id": "q6nO4kN0ZCTQ"
      }
    },
    {
      "cell_type": "markdown",
      "source": [
        "| Outcome type                                                             | Sample size (n)                        | Recommended test                                                                | Notes                                                      |\n",
        "| ------------------------------------------------------------------------ | -------------------------------------- | ------------------------------------------------------------------------------- | ---------------------------------------------------------- |\n",
        "| **Binary outcome** (e.g., retention yes/no, click-through)               | **Small (n < 30 per group)**           | Fisher’s Exact Test                                                             | Exact test for proportions, works with tiny samples.       |\n",
        "|                                                                          | **Medium to Large (n ≥ 30 per group)** | Two-proportion **z-test**                                                       | Standard for A/B testing when sample sizes are big enough. |\n",
        "| **Continuous outcome** (e.g., revenue, session length)                   | **Small (n < 30 per group)**           | Two-sample **t-test** (Welch’s t-test)                                          | Accounts for extra uncertainty with small n.               |\n",
        "|                                                                          | **Large (n ≥ 30 per group)**           | **t-test** ≈ **z-test**                                                         | With large samples, t- and z-tests converge.               |\n",
        "| **Non-normal / skewed continuous outcome** (e.g., spend with many zeros) | Any size                               | **Bootstrap confidence intervals** or log-transform + t-test                    | Robust to skewness and heavy tails.                        |\n",
        "| **Sequential / adaptive experiments**                                    | Any size                               | **Sequential tests** (alpha-spending, group sequential) or **Bayesian** methods | Handles repeated peeking and adaptive allocation.          |\n"
      ],
      "metadata": {
        "id": "rWhczFl1Yvzp"
      }
    }
  ]
}